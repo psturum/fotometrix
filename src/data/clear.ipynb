{
 "cells": [
  {
   "cell_type": "code",
   "execution_count": 3,
   "metadata": {},
   "outputs": [],
   "source": [
    "import pandas as pd\n",
    "# Specify the file path\n",
    "file_paths = [\"session.csv\", \"session2.csv\", \"session3.csv\"]\n",
    "\n",
    "for path in file_paths:\n",
    "    # Load the CSV file into a Pandas DataFrame\n",
    "    df = pd.read_csv(path)\n",
    "\n",
    "    # Create an empty DataFrame with the same column names as the original\n",
    "    empty_df = pd.DataFrame(columns=df.columns)\n",
    "\n",
    "    # Save the empty DataFrame back to the CSV file\n",
    "    empty_df.to_csv(path, index=False)"
   ]
  },
  {
   "cell_type": "code",
   "execution_count": 4,
   "metadata": {},
   "outputs": [],
   "source": [
    "import pandas as pd\n",
    "\n",
    "# Specify the file path\n",
    "file_paths = [[\"session.csv\", \"global.csv\"], [\"session2.csv\", \"global2.csv\"], [\"session3.csv\", \"global3.csv\"]]\n",
    "\n",
    "for path in file_paths:\n",
    "    # Load the CSV file into a Pandas DataFrame\n",
    "    if path[0] == \"session.csv\":\n",
    "        df = pd.read_csv(path[0], usecols=[\"Koncentration\", \"Gennemsnit\"])\n",
    "    else:\n",
    "        df = pd.read_csv(path[0])\n",
    "    df1 = pd.read_csv(path[1])\n",
    "\n",
    "    # Append rows from df to df1 using concat\n",
    "    df1 = pd.concat([df1, df], ignore_index=True)\n",
    "\n",
    "    # Save df1 back to the same location\n",
    "    df1.to_csv(path[1], index=False)\n"
   ]
  }
 ],
 "metadata": {
  "kernelspec": {
   "display_name": "Python 3 (ipykernel)",
   "language": "python",
   "name": "python3"
  },
  "language_info": {
   "codemirror_mode": {
    "name": "ipython",
    "version": 3
   },
   "file_extension": ".py",
   "mimetype": "text/x-python",
   "name": "python",
   "nbconvert_exporter": "python",
   "pygments_lexer": "ipython3",
   "version": "3.9.12"
  }
 },
 "nbformat": 4,
 "nbformat_minor": 4
}
