import sys
sys.path.append('..')  
import scripts.script1

out = scripts.script1.blah()


import scripts.script1
sys.path.append('..')  

out = scripts.script1.linear_regression_widget()

