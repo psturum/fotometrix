{
 "cells": [
  {
   "cell_type": "code",
   "execution_count": 6,
   "id": "d851a336-ea2f-43bc-bdd7-74499aa2959a",
   "metadata": {
    "tags": []
   },
   "outputs": [
    {
     "data": {
      "application/vnd.jupyter.widget-view+json": {
       "model_id": "114ae1f1987c4a629684dc6b8665d0eb",
       "version_major": 2,
       "version_minor": 0
      },
      "text/plain": [
       "GridspecLayout(children=(Label(value='Mælk:', layout=Layout(grid_area='widget001')), Dropdown(layout=Layout(gr…"
      ]
     },
     "metadata": {},
     "output_type": "display_data"
    },
    {
     "data": {
      "application/vnd.jupyter.widget-view+json": {
       "model_id": "b82db4b588e14b7bb08b9a160ab0e142",
       "version_major": 2,
       "version_minor": 0
      },
      "text/plain": [
       "Output()"
      ]
     },
     "metadata": {},
     "output_type": "display_data"
    }
   ],
   "source": [
    "import importlib\n",
    "\n",
    "def load_and_call_function():\n",
    "    import scripts.script2\n",
    "    importlib.reload(scripts.script2)\n",
    "    out = scripts.script2.displaya()\n",
    "    return out\n",
    "\n",
    "out = load_and_call_function()"
   ]
  },
  {
   "cell_type": "code",
   "execution_count": null,
   "id": "9b9cef5f-817d-4a05-aca1-a7b07fd0a2a0",
   "metadata": {},
   "outputs": [],
   "source": []
  }
 ],
 "metadata": {
  "kernelspec": {
   "display_name": "Python 3 (ipykernel)",
   "language": "python",
   "name": "python3"
  },
  "language_info": {
   "codemirror_mode": {
    "name": "ipython",
    "version": 3
   },
   "file_extension": ".py",
   "mimetype": "text/x-python",
   "name": "python",
   "nbconvert_exporter": "python",
   "pygments_lexer": "ipython3",
   "version": "3.9.12"
  }
 },
 "nbformat": 4,
 "nbformat_minor": 5
}
