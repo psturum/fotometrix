import sys
sys.path.append('..')  
import scripts.script2
out = scripts.script2.displaya()




