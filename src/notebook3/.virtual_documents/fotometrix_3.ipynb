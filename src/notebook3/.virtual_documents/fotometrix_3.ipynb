import sys
sys.path.append('..')  
import scripts.script3
out = scripts.script3.display_()




