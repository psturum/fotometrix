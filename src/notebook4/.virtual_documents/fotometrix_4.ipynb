import sys
sys.path.append('..')  
import scripts.script4
out = scripts.script4.plot_()






